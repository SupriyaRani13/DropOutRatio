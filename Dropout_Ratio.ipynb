{
 "cells": [
  {
   "cell_type": "code",
   "execution_count": 1,
   "metadata": {},
   "outputs": [],
   "source": [
    "import pandas as pd\n",
    "import numpy as np"
   ]
  },
  {
   "cell_type": "code",
   "execution_count": 2,
   "metadata": {},
   "outputs": [],
   "source": [
    "dropout= pd.read_csv(\"dropout-ratio-2012-2015.csv\")"
   ]
  },
  {
   "cell_type": "code",
   "execution_count": 3,
   "metadata": {},
   "outputs": [
    {
     "data": {
      "text/html": [
       "<div>\n",
       "<style scoped>\n",
       "    .dataframe tbody tr th:only-of-type {\n",
       "        vertical-align: middle;\n",
       "    }\n",
       "\n",
       "    .dataframe tbody tr th {\n",
       "        vertical-align: top;\n",
       "    }\n",
       "\n",
       "    .dataframe thead th {\n",
       "        text-align: right;\n",
       "    }\n",
       "</style>\n",
       "<table border=\"1\" class=\"dataframe\">\n",
       "  <thead>\n",
       "    <tr style=\"text-align: right;\">\n",
       "      <th></th>\n",
       "      <th>State_UT</th>\n",
       "      <th>year</th>\n",
       "      <th>Primary_Boys</th>\n",
       "      <th>Primary_Girls</th>\n",
       "      <th>Primary_Total</th>\n",
       "      <th>Upper Primary_Boys</th>\n",
       "      <th>Upper Primary_Girls</th>\n",
       "      <th>Upper Primary_Total</th>\n",
       "      <th>Secondary _Boys</th>\n",
       "      <th>Secondary _Girls</th>\n",
       "      <th>Secondary _Total</th>\n",
       "      <th>HrSecondary_Boys</th>\n",
       "      <th>HrSecondary_Girls</th>\n",
       "      <th>HrSecondary_Total</th>\n",
       "    </tr>\n",
       "  </thead>\n",
       "  <tbody>\n",
       "    <tr>\n",
       "      <td>0</td>\n",
       "      <td>A &amp; N Islands</td>\n",
       "      <td>2012-13</td>\n",
       "      <td>0.83</td>\n",
       "      <td>0.51</td>\n",
       "      <td>0.68</td>\n",
       "      <td>Uppe_r_Primary</td>\n",
       "      <td>1.09</td>\n",
       "      <td>1.23</td>\n",
       "      <td>5.57</td>\n",
       "      <td>5.55</td>\n",
       "      <td>5.56</td>\n",
       "      <td>17.66</td>\n",
       "      <td>10.15</td>\n",
       "      <td>14.14</td>\n",
       "    </tr>\n",
       "    <tr>\n",
       "      <td>1</td>\n",
       "      <td>A &amp; N Islands</td>\n",
       "      <td>2013-14</td>\n",
       "      <td>1.35</td>\n",
       "      <td>1.06</td>\n",
       "      <td>1.21</td>\n",
       "      <td>NR</td>\n",
       "      <td>1.54</td>\n",
       "      <td>0.51</td>\n",
       "      <td>8.36</td>\n",
       "      <td>5.98</td>\n",
       "      <td>7.2</td>\n",
       "      <td>18.94</td>\n",
       "      <td>12.2</td>\n",
       "      <td>15.87</td>\n",
       "    </tr>\n",
       "    <tr>\n",
       "      <td>2</td>\n",
       "      <td>A &amp; N Islands</td>\n",
       "      <td>2014-15</td>\n",
       "      <td>0.47</td>\n",
       "      <td>0.55</td>\n",
       "      <td>0.51</td>\n",
       "      <td>1.44</td>\n",
       "      <td>1.95</td>\n",
       "      <td>1.69</td>\n",
       "      <td>11.47</td>\n",
       "      <td>8.16</td>\n",
       "      <td>9.87</td>\n",
       "      <td>21.05</td>\n",
       "      <td>12.21</td>\n",
       "      <td>16.93</td>\n",
       "    </tr>\n",
       "    <tr>\n",
       "      <td>3</td>\n",
       "      <td>Andhra Pradesh</td>\n",
       "      <td>2012-13</td>\n",
       "      <td>3.3</td>\n",
       "      <td>3.05</td>\n",
       "      <td>3.18</td>\n",
       "      <td>3.21</td>\n",
       "      <td>3.51</td>\n",
       "      <td>3.36</td>\n",
       "      <td>12.21</td>\n",
       "      <td>13.25</td>\n",
       "      <td>12.72</td>\n",
       "      <td>2.66</td>\n",
       "      <td>NR</td>\n",
       "      <td>0.35</td>\n",
       "    </tr>\n",
       "    <tr>\n",
       "      <td>4</td>\n",
       "      <td>Andhra Pradesh</td>\n",
       "      <td>2013-14</td>\n",
       "      <td>4.31</td>\n",
       "      <td>4.39</td>\n",
       "      <td>4.35</td>\n",
       "      <td>3.46</td>\n",
       "      <td>4.12</td>\n",
       "      <td>3.78</td>\n",
       "      <td>11.95</td>\n",
       "      <td>13.37</td>\n",
       "      <td>12.65</td>\n",
       "      <td>12.65</td>\n",
       "      <td>10.85</td>\n",
       "      <td>11.79</td>\n",
       "    </tr>\n",
       "    <tr>\n",
       "      <td>...</td>\n",
       "      <td>...</td>\n",
       "      <td>...</td>\n",
       "      <td>...</td>\n",
       "      <td>...</td>\n",
       "      <td>...</td>\n",
       "      <td>...</td>\n",
       "      <td>...</td>\n",
       "      <td>...</td>\n",
       "      <td>...</td>\n",
       "      <td>...</td>\n",
       "      <td>...</td>\n",
       "      <td>...</td>\n",
       "      <td>...</td>\n",
       "      <td>...</td>\n",
       "    </tr>\n",
       "    <tr>\n",
       "      <td>105</td>\n",
       "      <td>West Bengal</td>\n",
       "      <td>2013-14</td>\n",
       "      <td>3.44</td>\n",
       "      <td>2.37</td>\n",
       "      <td>2.91</td>\n",
       "      <td>5.63</td>\n",
       "      <td>3.1</td>\n",
       "      <td>4.31</td>\n",
       "      <td>16.73</td>\n",
       "      <td>19.77</td>\n",
       "      <td>18.34</td>\n",
       "      <td>8.03</td>\n",
       "      <td>7.76</td>\n",
       "      <td>7.9</td>\n",
       "    </tr>\n",
       "    <tr>\n",
       "      <td>106</td>\n",
       "      <td>West Bengal</td>\n",
       "      <td>2014-15</td>\n",
       "      <td>2.13</td>\n",
       "      <td>0.79</td>\n",
       "      <td>1.47</td>\n",
       "      <td>5.84</td>\n",
       "      <td>2.88</td>\n",
       "      <td>4.3</td>\n",
       "      <td>16.33</td>\n",
       "      <td>19.06</td>\n",
       "      <td>17.8</td>\n",
       "      <td>8.18</td>\n",
       "      <td>8.04</td>\n",
       "      <td>8.11</td>\n",
       "    </tr>\n",
       "    <tr>\n",
       "      <td>107</td>\n",
       "      <td>All India</td>\n",
       "      <td>2012-13</td>\n",
       "      <td>4.68</td>\n",
       "      <td>4.66</td>\n",
       "      <td>4.67</td>\n",
       "      <td>2.3</td>\n",
       "      <td>4.01</td>\n",
       "      <td>3.13</td>\n",
       "      <td>14.54</td>\n",
       "      <td>14.54</td>\n",
       "      <td>14.54</td>\n",
       "      <td>NR</td>\n",
       "      <td>NR</td>\n",
       "      <td>NR</td>\n",
       "    </tr>\n",
       "    <tr>\n",
       "      <td>108</td>\n",
       "      <td>All India</td>\n",
       "      <td>2013-14</td>\n",
       "      <td>4.53</td>\n",
       "      <td>4.14</td>\n",
       "      <td>4.34</td>\n",
       "      <td>3.09</td>\n",
       "      <td>4.49</td>\n",
       "      <td>3.77</td>\n",
       "      <td>17.93</td>\n",
       "      <td>17.79</td>\n",
       "      <td>17.86</td>\n",
       "      <td>1.48</td>\n",
       "      <td>1.61</td>\n",
       "      <td>1.54</td>\n",
       "    </tr>\n",
       "    <tr>\n",
       "      <td>109</td>\n",
       "      <td>All India</td>\n",
       "      <td>2014-15</td>\n",
       "      <td>4.36</td>\n",
       "      <td>3.88</td>\n",
       "      <td>4.13</td>\n",
       "      <td>3.49</td>\n",
       "      <td>4.6</td>\n",
       "      <td>4.03</td>\n",
       "      <td>17.21</td>\n",
       "      <td>16.88</td>\n",
       "      <td>17.06</td>\n",
       "      <td>0.25</td>\n",
       "      <td>NR</td>\n",
       "      <td>NR</td>\n",
       "    </tr>\n",
       "  </tbody>\n",
       "</table>\n",
       "<p>110 rows × 14 columns</p>\n",
       "</div>"
      ],
      "text/plain": [
       "           State_UT     year Primary_Boys Primary_Girls Primary_Total  \\\n",
       "0     A & N Islands  2012-13         0.83          0.51          0.68   \n",
       "1     A & N Islands  2013-14         1.35          1.06          1.21   \n",
       "2     A & N Islands  2014-15         0.47          0.55          0.51   \n",
       "3    Andhra Pradesh  2012-13          3.3          3.05          3.18   \n",
       "4    Andhra Pradesh  2013-14         4.31          4.39          4.35   \n",
       "..              ...      ...          ...           ...           ...   \n",
       "105     West Bengal  2013-14         3.44          2.37          2.91   \n",
       "106     West Bengal  2014-15         2.13          0.79          1.47   \n",
       "107       All India  2012-13         4.68          4.66          4.67   \n",
       "108       All India  2013-14         4.53          4.14          4.34   \n",
       "109       All India  2014-15         4.36          3.88          4.13   \n",
       "\n",
       "    Upper Primary_Boys Upper Primary_Girls Upper Primary_Total  \\\n",
       "0       Uppe_r_Primary                1.09                1.23   \n",
       "1                   NR                1.54                0.51   \n",
       "2                 1.44                1.95                1.69   \n",
       "3                 3.21                3.51                3.36   \n",
       "4                 3.46                4.12                3.78   \n",
       "..                 ...                 ...                 ...   \n",
       "105               5.63                 3.1                4.31   \n",
       "106               5.84                2.88                 4.3   \n",
       "107                2.3                4.01                3.13   \n",
       "108               3.09                4.49                3.77   \n",
       "109               3.49                 4.6                4.03   \n",
       "\n",
       "    Secondary _Boys Secondary _Girls Secondary _Total HrSecondary_Boys  \\\n",
       "0              5.57             5.55             5.56            17.66   \n",
       "1              8.36             5.98              7.2            18.94   \n",
       "2             11.47             8.16             9.87            21.05   \n",
       "3             12.21            13.25            12.72             2.66   \n",
       "4             11.95            13.37            12.65            12.65   \n",
       "..              ...              ...              ...              ...   \n",
       "105           16.73            19.77            18.34             8.03   \n",
       "106           16.33            19.06             17.8             8.18   \n",
       "107           14.54            14.54            14.54               NR   \n",
       "108           17.93            17.79            17.86             1.48   \n",
       "109           17.21            16.88            17.06             0.25   \n",
       "\n",
       "    HrSecondary_Girls HrSecondary_Total  \n",
       "0               10.15             14.14  \n",
       "1                12.2             15.87  \n",
       "2               12.21             16.93  \n",
       "3                  NR              0.35  \n",
       "4               10.85             11.79  \n",
       "..                ...               ...  \n",
       "105              7.76               7.9  \n",
       "106              8.04              8.11  \n",
       "107                NR                NR  \n",
       "108              1.61              1.54  \n",
       "109                NR                NR  \n",
       "\n",
       "[110 rows x 14 columns]"
      ]
     },
     "execution_count": 3,
     "metadata": {},
     "output_type": "execute_result"
    }
   ],
   "source": [
    "dropout"
   ]
  },
  {
   "cell_type": "code",
   "execution_count": 4,
   "metadata": {},
   "outputs": [
    {
     "data": {
      "text/plain": [
       "<bound method NDFrame.head of            State_UT     year Primary_Boys Primary_Girls Primary_Total  \\\n",
       "0     A & N Islands  2012-13         0.83          0.51          0.68   \n",
       "1     A & N Islands  2013-14         1.35          1.06          1.21   \n",
       "2     A & N Islands  2014-15         0.47          0.55          0.51   \n",
       "3    Andhra Pradesh  2012-13          3.3          3.05          3.18   \n",
       "4    Andhra Pradesh  2013-14         4.31          4.39          4.35   \n",
       "..              ...      ...          ...           ...           ...   \n",
       "105     West Bengal  2013-14         3.44          2.37          2.91   \n",
       "106     West Bengal  2014-15         2.13          0.79          1.47   \n",
       "107       All India  2012-13         4.68          4.66          4.67   \n",
       "108       All India  2013-14         4.53          4.14          4.34   \n",
       "109       All India  2014-15         4.36          3.88          4.13   \n",
       "\n",
       "    Upper Primary_Boys Upper Primary_Girls Upper Primary_Total  \\\n",
       "0       Uppe_r_Primary                1.09                1.23   \n",
       "1                   NR                1.54                0.51   \n",
       "2                 1.44                1.95                1.69   \n",
       "3                 3.21                3.51                3.36   \n",
       "4                 3.46                4.12                3.78   \n",
       "..                 ...                 ...                 ...   \n",
       "105               5.63                 3.1                4.31   \n",
       "106               5.84                2.88                 4.3   \n",
       "107                2.3                4.01                3.13   \n",
       "108               3.09                4.49                3.77   \n",
       "109               3.49                 4.6                4.03   \n",
       "\n",
       "    Secondary _Boys Secondary _Girls Secondary _Total HrSecondary_Boys  \\\n",
       "0              5.57             5.55             5.56            17.66   \n",
       "1              8.36             5.98              7.2            18.94   \n",
       "2             11.47             8.16             9.87            21.05   \n",
       "3             12.21            13.25            12.72             2.66   \n",
       "4             11.95            13.37            12.65            12.65   \n",
       "..              ...              ...              ...              ...   \n",
       "105           16.73            19.77            18.34             8.03   \n",
       "106           16.33            19.06             17.8             8.18   \n",
       "107           14.54            14.54            14.54               NR   \n",
       "108           17.93            17.79            17.86             1.48   \n",
       "109           17.21            16.88            17.06             0.25   \n",
       "\n",
       "    HrSecondary_Girls HrSecondary_Total  \n",
       "0               10.15             14.14  \n",
       "1                12.2             15.87  \n",
       "2               12.21             16.93  \n",
       "3                  NR              0.35  \n",
       "4               10.85             11.79  \n",
       "..                ...               ...  \n",
       "105              7.76               7.9  \n",
       "106              8.04              8.11  \n",
       "107                NR                NR  \n",
       "108              1.61              1.54  \n",
       "109                NR                NR  \n",
       "\n",
       "[110 rows x 14 columns]>"
      ]
     },
     "execution_count": 4,
     "metadata": {},
     "output_type": "execute_result"
    }
   ],
   "source": [
    "dropout.head"
   ]
  },
  {
   "cell_type": "code",
   "execution_count": 6,
   "metadata": {},
   "outputs": [
    {
     "data": {
      "text/plain": [
       "<bound method NDFrame.tail of            State_UT     year Primary_Boys Primary_Girls Primary_Total  \\\n",
       "0     A & N Islands  2012-13         0.83          0.51          0.68   \n",
       "1     A & N Islands  2013-14         1.35          1.06          1.21   \n",
       "2     A & N Islands  2014-15         0.47          0.55          0.51   \n",
       "3    Andhra Pradesh  2012-13          3.3          3.05          3.18   \n",
       "4    Andhra Pradesh  2013-14         4.31          4.39          4.35   \n",
       "..              ...      ...          ...           ...           ...   \n",
       "105     West Bengal  2013-14         3.44          2.37          2.91   \n",
       "106     West Bengal  2014-15         2.13          0.79          1.47   \n",
       "107       All India  2012-13         4.68          4.66          4.67   \n",
       "108       All India  2013-14         4.53          4.14          4.34   \n",
       "109       All India  2014-15         4.36          3.88          4.13   \n",
       "\n",
       "    Upper Primary_Boys Upper Primary_Girls Upper Primary_Total  \\\n",
       "0       Uppe_r_Primary                1.09                1.23   \n",
       "1                   NR                1.54                0.51   \n",
       "2                 1.44                1.95                1.69   \n",
       "3                 3.21                3.51                3.36   \n",
       "4                 3.46                4.12                3.78   \n",
       "..                 ...                 ...                 ...   \n",
       "105               5.63                 3.1                4.31   \n",
       "106               5.84                2.88                 4.3   \n",
       "107                2.3                4.01                3.13   \n",
       "108               3.09                4.49                3.77   \n",
       "109               3.49                 4.6                4.03   \n",
       "\n",
       "    Secondary _Boys Secondary _Girls Secondary _Total HrSecondary_Boys  \\\n",
       "0              5.57             5.55             5.56            17.66   \n",
       "1              8.36             5.98              7.2            18.94   \n",
       "2             11.47             8.16             9.87            21.05   \n",
       "3             12.21            13.25            12.72             2.66   \n",
       "4             11.95            13.37            12.65            12.65   \n",
       "..              ...              ...              ...              ...   \n",
       "105           16.73            19.77            18.34             8.03   \n",
       "106           16.33            19.06             17.8             8.18   \n",
       "107           14.54            14.54            14.54               NR   \n",
       "108           17.93            17.79            17.86             1.48   \n",
       "109           17.21            16.88            17.06             0.25   \n",
       "\n",
       "    HrSecondary_Girls HrSecondary_Total  \n",
       "0               10.15             14.14  \n",
       "1                12.2             15.87  \n",
       "2               12.21             16.93  \n",
       "3                  NR              0.35  \n",
       "4               10.85             11.79  \n",
       "..                ...               ...  \n",
       "105              7.76               7.9  \n",
       "106              8.04              8.11  \n",
       "107                NR                NR  \n",
       "108              1.61              1.54  \n",
       "109                NR                NR  \n",
       "\n",
       "[110 rows x 14 columns]>"
      ]
     },
     "execution_count": 6,
     "metadata": {},
     "output_type": "execute_result"
    }
   ],
   "source": [
    "dropout.tail"
   ]
  },
  {
   "cell_type": "code",
   "execution_count": 7,
   "metadata": {},
   "outputs": [
    {
     "data": {
      "text/plain": [
       "<bound method DataFrame.info of            State_UT     year Primary_Boys Primary_Girls Primary_Total  \\\n",
       "0     A & N Islands  2012-13         0.83          0.51          0.68   \n",
       "1     A & N Islands  2013-14         1.35          1.06          1.21   \n",
       "2     A & N Islands  2014-15         0.47          0.55          0.51   \n",
       "3    Andhra Pradesh  2012-13          3.3          3.05          3.18   \n",
       "4    Andhra Pradesh  2013-14         4.31          4.39          4.35   \n",
       "..              ...      ...          ...           ...           ...   \n",
       "105     West Bengal  2013-14         3.44          2.37          2.91   \n",
       "106     West Bengal  2014-15         2.13          0.79          1.47   \n",
       "107       All India  2012-13         4.68          4.66          4.67   \n",
       "108       All India  2013-14         4.53          4.14          4.34   \n",
       "109       All India  2014-15         4.36          3.88          4.13   \n",
       "\n",
       "    Upper Primary_Boys Upper Primary_Girls Upper Primary_Total  \\\n",
       "0       Uppe_r_Primary                1.09                1.23   \n",
       "1                   NR                1.54                0.51   \n",
       "2                 1.44                1.95                1.69   \n",
       "3                 3.21                3.51                3.36   \n",
       "4                 3.46                4.12                3.78   \n",
       "..                 ...                 ...                 ...   \n",
       "105               5.63                 3.1                4.31   \n",
       "106               5.84                2.88                 4.3   \n",
       "107                2.3                4.01                3.13   \n",
       "108               3.09                4.49                3.77   \n",
       "109               3.49                 4.6                4.03   \n",
       "\n",
       "    Secondary _Boys Secondary _Girls Secondary _Total HrSecondary_Boys  \\\n",
       "0              5.57             5.55             5.56            17.66   \n",
       "1              8.36             5.98              7.2            18.94   \n",
       "2             11.47             8.16             9.87            21.05   \n",
       "3             12.21            13.25            12.72             2.66   \n",
       "4             11.95            13.37            12.65            12.65   \n",
       "..              ...              ...              ...              ...   \n",
       "105           16.73            19.77            18.34             8.03   \n",
       "106           16.33            19.06             17.8             8.18   \n",
       "107           14.54            14.54            14.54               NR   \n",
       "108           17.93            17.79            17.86             1.48   \n",
       "109           17.21            16.88            17.06             0.25   \n",
       "\n",
       "    HrSecondary_Girls HrSecondary_Total  \n",
       "0               10.15             14.14  \n",
       "1                12.2             15.87  \n",
       "2               12.21             16.93  \n",
       "3                  NR              0.35  \n",
       "4               10.85             11.79  \n",
       "..                ...               ...  \n",
       "105              7.76               7.9  \n",
       "106              8.04              8.11  \n",
       "107                NR                NR  \n",
       "108              1.61              1.54  \n",
       "109                NR                NR  \n",
       "\n",
       "[110 rows x 14 columns]>"
      ]
     },
     "execution_count": 7,
     "metadata": {},
     "output_type": "execute_result"
    }
   ],
   "source": [
    "dropout.info"
   ]
  },
  {
   "cell_type": "code",
   "execution_count": 8,
   "metadata": {},
   "outputs": [
    {
     "data": {
      "text/html": [
       "<div>\n",
       "<style scoped>\n",
       "    .dataframe tbody tr th:only-of-type {\n",
       "        vertical-align: middle;\n",
       "    }\n",
       "\n",
       "    .dataframe tbody tr th {\n",
       "        vertical-align: top;\n",
       "    }\n",
       "\n",
       "    .dataframe thead th {\n",
       "        text-align: right;\n",
       "    }\n",
       "</style>\n",
       "<table border=\"1\" class=\"dataframe\">\n",
       "  <thead>\n",
       "    <tr style=\"text-align: right;\">\n",
       "      <th></th>\n",
       "      <th>State_UT</th>\n",
       "      <th>year</th>\n",
       "      <th>Primary_Boys</th>\n",
       "      <th>Primary_Girls</th>\n",
       "      <th>Primary_Total</th>\n",
       "      <th>Upper Primary_Boys</th>\n",
       "      <th>Upper Primary_Girls</th>\n",
       "      <th>Upper Primary_Total</th>\n",
       "      <th>Secondary _Boys</th>\n",
       "      <th>Secondary _Girls</th>\n",
       "      <th>Secondary _Total</th>\n",
       "      <th>HrSecondary_Boys</th>\n",
       "      <th>HrSecondary_Girls</th>\n",
       "      <th>HrSecondary_Total</th>\n",
       "    </tr>\n",
       "  </thead>\n",
       "  <tbody>\n",
       "    <tr>\n",
       "      <td>0</td>\n",
       "      <td>A &amp; N Islands</td>\n",
       "      <td>2012-13</td>\n",
       "      <td>0.83</td>\n",
       "      <td>0.51</td>\n",
       "      <td>0.68</td>\n",
       "      <td>Uppe_r_Primary</td>\n",
       "      <td>1.09</td>\n",
       "      <td>1.23</td>\n",
       "      <td>5.57</td>\n",
       "      <td>5.55</td>\n",
       "      <td>5.56</td>\n",
       "      <td>17.66</td>\n",
       "      <td>10.15</td>\n",
       "      <td>14.14</td>\n",
       "    </tr>\n",
       "  </tbody>\n",
       "</table>\n",
       "</div>"
      ],
      "text/plain": [
       "        State_UT     year Primary_Boys Primary_Girls Primary_Total  \\\n",
       "0  A & N Islands  2012-13         0.83          0.51          0.68   \n",
       "\n",
       "  Upper Primary_Boys Upper Primary_Girls Upper Primary_Total Secondary _Boys  \\\n",
       "0     Uppe_r_Primary                1.09                1.23            5.57   \n",
       "\n",
       "  Secondary _Girls Secondary _Total HrSecondary_Boys HrSecondary_Girls  \\\n",
       "0             5.55             5.56            17.66             10.15   \n",
       "\n",
       "  HrSecondary_Total  \n",
       "0             14.14  "
      ]
     },
     "execution_count": 8,
     "metadata": {},
     "output_type": "execute_result"
    }
   ],
   "source": [
    "dropout.head(1)"
   ]
  },
  {
   "cell_type": "code",
   "execution_count": 9,
   "metadata": {},
   "outputs": [
    {
     "data": {
      "text/html": [
       "<div>\n",
       "<style scoped>\n",
       "    .dataframe tbody tr th:only-of-type {\n",
       "        vertical-align: middle;\n",
       "    }\n",
       "\n",
       "    .dataframe tbody tr th {\n",
       "        vertical-align: top;\n",
       "    }\n",
       "\n",
       "    .dataframe thead th {\n",
       "        text-align: right;\n",
       "    }\n",
       "</style>\n",
       "<table border=\"1\" class=\"dataframe\">\n",
       "  <thead>\n",
       "    <tr style=\"text-align: right;\">\n",
       "      <th></th>\n",
       "      <th>State_UT</th>\n",
       "      <th>year</th>\n",
       "      <th>Primary_Boys</th>\n",
       "      <th>Primary_Girls</th>\n",
       "      <th>Primary_Total</th>\n",
       "      <th>Upper Primary_Boys</th>\n",
       "      <th>Upper Primary_Girls</th>\n",
       "      <th>Upper Primary_Total</th>\n",
       "      <th>Secondary _Boys</th>\n",
       "      <th>Secondary _Girls</th>\n",
       "      <th>Secondary _Total</th>\n",
       "      <th>HrSecondary_Boys</th>\n",
       "      <th>HrSecondary_Girls</th>\n",
       "      <th>HrSecondary_Total</th>\n",
       "    </tr>\n",
       "  </thead>\n",
       "  <tbody>\n",
       "    <tr>\n",
       "      <td>108</td>\n",
       "      <td>All India</td>\n",
       "      <td>2013-14</td>\n",
       "      <td>4.53</td>\n",
       "      <td>4.14</td>\n",
       "      <td>4.34</td>\n",
       "      <td>3.09</td>\n",
       "      <td>4.49</td>\n",
       "      <td>3.77</td>\n",
       "      <td>17.93</td>\n",
       "      <td>17.79</td>\n",
       "      <td>17.86</td>\n",
       "      <td>1.48</td>\n",
       "      <td>1.61</td>\n",
       "      <td>1.54</td>\n",
       "    </tr>\n",
       "    <tr>\n",
       "      <td>109</td>\n",
       "      <td>All India</td>\n",
       "      <td>2014-15</td>\n",
       "      <td>4.36</td>\n",
       "      <td>3.88</td>\n",
       "      <td>4.13</td>\n",
       "      <td>3.49</td>\n",
       "      <td>4.6</td>\n",
       "      <td>4.03</td>\n",
       "      <td>17.21</td>\n",
       "      <td>16.88</td>\n",
       "      <td>17.06</td>\n",
       "      <td>0.25</td>\n",
       "      <td>NR</td>\n",
       "      <td>NR</td>\n",
       "    </tr>\n",
       "  </tbody>\n",
       "</table>\n",
       "</div>"
      ],
      "text/plain": [
       "      State_UT     year Primary_Boys Primary_Girls Primary_Total  \\\n",
       "108  All India  2013-14         4.53          4.14          4.34   \n",
       "109  All India  2014-15         4.36          3.88          4.13   \n",
       "\n",
       "    Upper Primary_Boys Upper Primary_Girls Upper Primary_Total  \\\n",
       "108               3.09                4.49                3.77   \n",
       "109               3.49                 4.6                4.03   \n",
       "\n",
       "    Secondary _Boys Secondary _Girls Secondary _Total HrSecondary_Boys  \\\n",
       "108           17.93            17.79            17.86             1.48   \n",
       "109           17.21            16.88            17.06             0.25   \n",
       "\n",
       "    HrSecondary_Girls HrSecondary_Total  \n",
       "108              1.61              1.54  \n",
       "109                NR                NR  "
      ]
     },
     "execution_count": 9,
     "metadata": {},
     "output_type": "execute_result"
    }
   ],
   "source": [
    "dropout.tail(2)"
   ]
  },
  {
   "cell_type": "code",
   "execution_count": 10,
   "metadata": {},
   "outputs": [
    {
     "data": {
      "text/html": [
       "<div>\n",
       "<style scoped>\n",
       "    .dataframe tbody tr th:only-of-type {\n",
       "        vertical-align: middle;\n",
       "    }\n",
       "\n",
       "    .dataframe tbody tr th {\n",
       "        vertical-align: top;\n",
       "    }\n",
       "\n",
       "    .dataframe thead th {\n",
       "        text-align: right;\n",
       "    }\n",
       "</style>\n",
       "<table border=\"1\" class=\"dataframe\">\n",
       "  <thead>\n",
       "    <tr style=\"text-align: right;\">\n",
       "      <th></th>\n",
       "      <th>State_UT</th>\n",
       "      <th>year</th>\n",
       "      <th>Primary_Boys</th>\n",
       "      <th>Primary_Girls</th>\n",
       "      <th>Primary_Total</th>\n",
       "      <th>Upper Primary_Boys</th>\n",
       "      <th>Upper Primary_Girls</th>\n",
       "      <th>Upper Primary_Total</th>\n",
       "      <th>Secondary _Boys</th>\n",
       "      <th>Secondary _Girls</th>\n",
       "      <th>Secondary _Total</th>\n",
       "      <th>HrSecondary_Boys</th>\n",
       "      <th>HrSecondary_Girls</th>\n",
       "      <th>HrSecondary_Total</th>\n",
       "    </tr>\n",
       "  </thead>\n",
       "  <tbody>\n",
       "    <tr>\n",
       "      <td>0</td>\n",
       "      <td>False</td>\n",
       "      <td>False</td>\n",
       "      <td>False</td>\n",
       "      <td>False</td>\n",
       "      <td>False</td>\n",
       "      <td>False</td>\n",
       "      <td>False</td>\n",
       "      <td>False</td>\n",
       "      <td>False</td>\n",
       "      <td>False</td>\n",
       "      <td>False</td>\n",
       "      <td>False</td>\n",
       "      <td>False</td>\n",
       "      <td>False</td>\n",
       "    </tr>\n",
       "    <tr>\n",
       "      <td>1</td>\n",
       "      <td>False</td>\n",
       "      <td>False</td>\n",
       "      <td>False</td>\n",
       "      <td>False</td>\n",
       "      <td>False</td>\n",
       "      <td>False</td>\n",
       "      <td>False</td>\n",
       "      <td>False</td>\n",
       "      <td>False</td>\n",
       "      <td>False</td>\n",
       "      <td>False</td>\n",
       "      <td>False</td>\n",
       "      <td>False</td>\n",
       "      <td>False</td>\n",
       "    </tr>\n",
       "    <tr>\n",
       "      <td>2</td>\n",
       "      <td>False</td>\n",
       "      <td>False</td>\n",
       "      <td>False</td>\n",
       "      <td>False</td>\n",
       "      <td>False</td>\n",
       "      <td>False</td>\n",
       "      <td>False</td>\n",
       "      <td>False</td>\n",
       "      <td>False</td>\n",
       "      <td>False</td>\n",
       "      <td>False</td>\n",
       "      <td>False</td>\n",
       "      <td>False</td>\n",
       "      <td>False</td>\n",
       "    </tr>\n",
       "    <tr>\n",
       "      <td>3</td>\n",
       "      <td>False</td>\n",
       "      <td>False</td>\n",
       "      <td>False</td>\n",
       "      <td>False</td>\n",
       "      <td>False</td>\n",
       "      <td>False</td>\n",
       "      <td>False</td>\n",
       "      <td>False</td>\n",
       "      <td>False</td>\n",
       "      <td>False</td>\n",
       "      <td>False</td>\n",
       "      <td>False</td>\n",
       "      <td>False</td>\n",
       "      <td>False</td>\n",
       "    </tr>\n",
       "    <tr>\n",
       "      <td>4</td>\n",
       "      <td>False</td>\n",
       "      <td>False</td>\n",
       "      <td>False</td>\n",
       "      <td>False</td>\n",
       "      <td>False</td>\n",
       "      <td>False</td>\n",
       "      <td>False</td>\n",
       "      <td>False</td>\n",
       "      <td>False</td>\n",
       "      <td>False</td>\n",
       "      <td>False</td>\n",
       "      <td>False</td>\n",
       "      <td>False</td>\n",
       "      <td>False</td>\n",
       "    </tr>\n",
       "    <tr>\n",
       "      <td>...</td>\n",
       "      <td>...</td>\n",
       "      <td>...</td>\n",
       "      <td>...</td>\n",
       "      <td>...</td>\n",
       "      <td>...</td>\n",
       "      <td>...</td>\n",
       "      <td>...</td>\n",
       "      <td>...</td>\n",
       "      <td>...</td>\n",
       "      <td>...</td>\n",
       "      <td>...</td>\n",
       "      <td>...</td>\n",
       "      <td>...</td>\n",
       "      <td>...</td>\n",
       "    </tr>\n",
       "    <tr>\n",
       "      <td>105</td>\n",
       "      <td>False</td>\n",
       "      <td>False</td>\n",
       "      <td>False</td>\n",
       "      <td>False</td>\n",
       "      <td>False</td>\n",
       "      <td>False</td>\n",
       "      <td>False</td>\n",
       "      <td>False</td>\n",
       "      <td>False</td>\n",
       "      <td>False</td>\n",
       "      <td>False</td>\n",
       "      <td>False</td>\n",
       "      <td>False</td>\n",
       "      <td>False</td>\n",
       "    </tr>\n",
       "    <tr>\n",
       "      <td>106</td>\n",
       "      <td>False</td>\n",
       "      <td>False</td>\n",
       "      <td>False</td>\n",
       "      <td>False</td>\n",
       "      <td>False</td>\n",
       "      <td>False</td>\n",
       "      <td>False</td>\n",
       "      <td>False</td>\n",
       "      <td>False</td>\n",
       "      <td>False</td>\n",
       "      <td>False</td>\n",
       "      <td>False</td>\n",
       "      <td>False</td>\n",
       "      <td>False</td>\n",
       "    </tr>\n",
       "    <tr>\n",
       "      <td>107</td>\n",
       "      <td>False</td>\n",
       "      <td>False</td>\n",
       "      <td>False</td>\n",
       "      <td>False</td>\n",
       "      <td>False</td>\n",
       "      <td>False</td>\n",
       "      <td>False</td>\n",
       "      <td>False</td>\n",
       "      <td>False</td>\n",
       "      <td>False</td>\n",
       "      <td>False</td>\n",
       "      <td>False</td>\n",
       "      <td>False</td>\n",
       "      <td>False</td>\n",
       "    </tr>\n",
       "    <tr>\n",
       "      <td>108</td>\n",
       "      <td>False</td>\n",
       "      <td>False</td>\n",
       "      <td>False</td>\n",
       "      <td>False</td>\n",
       "      <td>False</td>\n",
       "      <td>False</td>\n",
       "      <td>False</td>\n",
       "      <td>False</td>\n",
       "      <td>False</td>\n",
       "      <td>False</td>\n",
       "      <td>False</td>\n",
       "      <td>False</td>\n",
       "      <td>False</td>\n",
       "      <td>False</td>\n",
       "    </tr>\n",
       "    <tr>\n",
       "      <td>109</td>\n",
       "      <td>False</td>\n",
       "      <td>False</td>\n",
       "      <td>False</td>\n",
       "      <td>False</td>\n",
       "      <td>False</td>\n",
       "      <td>False</td>\n",
       "      <td>False</td>\n",
       "      <td>False</td>\n",
       "      <td>False</td>\n",
       "      <td>False</td>\n",
       "      <td>False</td>\n",
       "      <td>False</td>\n",
       "      <td>False</td>\n",
       "      <td>False</td>\n",
       "    </tr>\n",
       "  </tbody>\n",
       "</table>\n",
       "<p>110 rows × 14 columns</p>\n",
       "</div>"
      ],
      "text/plain": [
       "     State_UT   year  Primary_Boys  Primary_Girls  Primary_Total  \\\n",
       "0       False  False         False          False          False   \n",
       "1       False  False         False          False          False   \n",
       "2       False  False         False          False          False   \n",
       "3       False  False         False          False          False   \n",
       "4       False  False         False          False          False   \n",
       "..        ...    ...           ...            ...            ...   \n",
       "105     False  False         False          False          False   \n",
       "106     False  False         False          False          False   \n",
       "107     False  False         False          False          False   \n",
       "108     False  False         False          False          False   \n",
       "109     False  False         False          False          False   \n",
       "\n",
       "     Upper Primary_Boys  Upper Primary_Girls  Upper Primary_Total  \\\n",
       "0                 False                False                False   \n",
       "1                 False                False                False   \n",
       "2                 False                False                False   \n",
       "3                 False                False                False   \n",
       "4                 False                False                False   \n",
       "..                  ...                  ...                  ...   \n",
       "105               False                False                False   \n",
       "106               False                False                False   \n",
       "107               False                False                False   \n",
       "108               False                False                False   \n",
       "109               False                False                False   \n",
       "\n",
       "     Secondary _Boys  Secondary _Girls  Secondary _Total  HrSecondary_Boys  \\\n",
       "0              False             False             False             False   \n",
       "1              False             False             False             False   \n",
       "2              False             False             False             False   \n",
       "3              False             False             False             False   \n",
       "4              False             False             False             False   \n",
       "..               ...               ...               ...               ...   \n",
       "105            False             False             False             False   \n",
       "106            False             False             False             False   \n",
       "107            False             False             False             False   \n",
       "108            False             False             False             False   \n",
       "109            False             False             False             False   \n",
       "\n",
       "     HrSecondary_Girls  HrSecondary_Total  \n",
       "0                False              False  \n",
       "1                False              False  \n",
       "2                False              False  \n",
       "3                False              False  \n",
       "4                False              False  \n",
       "..                 ...                ...  \n",
       "105              False              False  \n",
       "106              False              False  \n",
       "107              False              False  \n",
       "108              False              False  \n",
       "109              False              False  \n",
       "\n",
       "[110 rows x 14 columns]"
      ]
     },
     "execution_count": 10,
     "metadata": {},
     "output_type": "execute_result"
    }
   ],
   "source": [
    "dropout.isna()"
   ]
  },
  {
   "cell_type": "code",
   "execution_count": 11,
   "metadata": {},
   "outputs": [
    {
     "name": "stdout",
     "output_type": "stream",
     "text": [
      "        State_UT     year Primary_Boys Primary_Girls Primary_Total  \\\n",
      "104  West Bengal  2012-13         6.88          5.71           6.3   \n",
      "105  West Bengal  2013-14         3.44          2.37          2.91   \n",
      "106  West Bengal  2014-15         2.13          0.79          1.47   \n",
      "\n",
      "    Upper Primary_Boys Upper Primary_Girls Upper Primary_Total  \\\n",
      "104               6.29                4.16                5.18   \n",
      "105               5.63                 3.1                4.31   \n",
      "106               5.84                2.88                 4.3   \n",
      "\n",
      "    Secondary _Boys Secondary _Girls Secondary _Total HrSecondary_Boys  \\\n",
      "104           14.95            19.41             17.3             7.81   \n",
      "105           16.73            19.77            18.34             8.03   \n",
      "106           16.33            19.06             17.8             8.18   \n",
      "\n",
      "    HrSecondary_Girls HrSecondary_Total  \n",
      "104              8.49              8.13  \n",
      "105              7.76               7.9  \n",
      "106              8.04              8.11  \n"
     ]
    }
   ],
   "source": [
    "data_wb=dropout[dropout['State_UT']=='West Bengal']\n",
    "print(data_wb.head())"
   ]
  },
  {
   "cell_type": "code",
   "execution_count": 12,
   "metadata": {},
   "outputs": [
    {
     "name": "stdout",
     "output_type": "stream",
     "text": [
      "      State_UT     year Primary_Boys Primary_Girls Primary_Total  \\\n",
      "107  All India  2012-13         4.68          4.66          4.67   \n",
      "108  All India  2013-14         4.53          4.14          4.34   \n",
      "109  All India  2014-15         4.36          3.88          4.13   \n",
      "\n",
      "    Upper Primary_Boys Upper Primary_Girls Upper Primary_Total  \\\n",
      "107                2.3                4.01                3.13   \n",
      "108               3.09                4.49                3.77   \n",
      "109               3.49                 4.6                4.03   \n",
      "\n",
      "    Secondary _Boys Secondary _Girls Secondary _Total HrSecondary_Boys  \\\n",
      "107           14.54            14.54            14.54               NR   \n",
      "108           17.93            17.79            17.86             1.48   \n",
      "109           17.21            16.88            17.06             0.25   \n",
      "\n",
      "    HrSecondary_Girls HrSecondary_Total  \n",
      "107                NR                NR  \n",
      "108              1.61              1.54  \n",
      "109                NR                NR  \n"
     ]
    }
   ],
   "source": [
    "data_wb=dropout[dropout['State_UT']=='All India']\n",
    "print(data_wb.head())"
   ]
  },
  {
   "cell_type": "code",
   "execution_count": 13,
   "metadata": {},
   "outputs": [
    {
     "data": {
      "text/plain": [
       "{'A & N Islands': Int64Index([0, 1, 2], dtype='int64'),\n",
       " 'All India': Int64Index([107, 108, 109], dtype='int64'),\n",
       " 'Andhra Pradesh': Int64Index([3, 4, 5], dtype='int64'),\n",
       " 'Arunachal  Pradesh': Int64Index([6], dtype='int64'),\n",
       " 'Arunachal Pradesh': Int64Index([7, 8], dtype='int64'),\n",
       " 'Assam': Int64Index([9, 10, 11], dtype='int64'),\n",
       " 'Bihar': Int64Index([12, 13, 14], dtype='int64'),\n",
       " 'Chandigarh': Int64Index([15, 16, 17], dtype='int64'),\n",
       " 'Chhattisgarh': Int64Index([18, 19, 20], dtype='int64'),\n",
       " 'Dadra & Nagar Haveli': Int64Index([21, 22, 23], dtype='int64'),\n",
       " 'Daman & Diu': Int64Index([24, 25, 26], dtype='int64'),\n",
       " 'Delhi': Int64Index([27, 28, 29], dtype='int64'),\n",
       " 'Goa': Int64Index([30, 31, 32], dtype='int64'),\n",
       " 'Gujarat': Int64Index([33, 34, 35], dtype='int64'),\n",
       " 'Haryana': Int64Index([36, 37, 38], dtype='int64'),\n",
       " 'Himachal Pradesh': Int64Index([39, 40, 41], dtype='int64'),\n",
       " 'Jammu & Kashmir': Int64Index([42, 43, 44], dtype='int64'),\n",
       " 'Jharkhand': Int64Index([45, 46, 47], dtype='int64'),\n",
       " 'Karnataka': Int64Index([48, 49, 50], dtype='int64'),\n",
       " 'Kerala': Int64Index([51, 52, 53], dtype='int64'),\n",
       " 'Lakshadweep': Int64Index([54, 55, 56], dtype='int64'),\n",
       " 'Madhya  Pradesh': Int64Index([57], dtype='int64'),\n",
       " 'Madhya Pradesh': Int64Index([58, 59], dtype='int64'),\n",
       " 'Maharashtra': Int64Index([60, 61, 62], dtype='int64'),\n",
       " 'Manipur': Int64Index([63, 64, 65], dtype='int64'),\n",
       " 'Meghalaya': Int64Index([66, 67, 68], dtype='int64'),\n",
       " 'Mizoram': Int64Index([69, 70, 71], dtype='int64'),\n",
       " 'Nagaland': Int64Index([72, 73, 74], dtype='int64'),\n",
       " 'Odisha': Int64Index([75, 76, 77], dtype='int64'),\n",
       " 'Puducherry': Int64Index([78, 79, 80], dtype='int64'),\n",
       " 'Punjab': Int64Index([81, 82, 83], dtype='int64'),\n",
       " 'Rajasthan': Int64Index([84, 85, 86], dtype='int64'),\n",
       " 'Sikkim': Int64Index([87, 88, 89], dtype='int64'),\n",
       " 'Tamil  Nadu': Int64Index([90], dtype='int64'),\n",
       " 'Tamil Nadu': Int64Index([91, 92], dtype='int64'),\n",
       " 'Telangana': Int64Index([93, 94], dtype='int64'),\n",
       " 'Tripura': Int64Index([95, 96, 97], dtype='int64'),\n",
       " 'Uttar Pradesh': Int64Index([98, 99, 100], dtype='int64'),\n",
       " 'Uttarakhand': Int64Index([101, 102, 103], dtype='int64'),\n",
       " 'West Bengal': Int64Index([104, 105, 106], dtype='int64')}"
      ]
     },
     "execution_count": 13,
     "metadata": {},
     "output_type": "execute_result"
    }
   ],
   "source": [
    "dropout.groupby('State_UT').groups"
   ]
  },
  {
   "cell_type": "code",
   "execution_count": 14,
   "metadata": {},
   "outputs": [
    {
     "data": {
      "text/plain": [
       "array(['0.83', '1.35', '0.47', '3.3', '4.31', '6.57', '11.54', '15.84',\n",
       "       '11.51', '7.02', '8.19', '16.07', 'NR', '2.38', '0.35', 'NR', 'NR',\n",
       "       'NR', '4.24', '1.45', '3.08', 'NR', '1.05', '1.6', 'NR', '1.06',\n",
       "       '1.8', 'NR', 'NR', 'NR', 'NR', '0.08', '0.63', '0.21', '0.5',\n",
       "       '0.82', '1.48', '0.22', '5.54', '0.51', '0.57', '0.46', '6.8',\n",
       "       '5.53', '6.98', '7.36', '6.89', '5.91', '3.4', '2.42', '2.03',\n",
       "       'NR', 'NR', 'NR', '2.3', '0', 'NR', '5.75', '9.91', '6.48', '0.88',\n",
       "       '0.51', '1.26', '10.24', '17.27', '9.5', '11.32', '11.3', '10.35',\n",
       "       '24.27', '12.57', '10.17', '7.11', '19.09', '6.18', '3.63', '2.83',\n",
       "       '2.91', '0.25', '0.76', '0.36', '1.99', '1.35', '2.89', '7.2',\n",
       "       '7.76', '5.02', '4.78', '5.55', '3.75', '4.02', '0.53', 'NR',\n",
       "       '6.04', '2.21', '2.31', '3.63', '1.37', '10.53', '7.91', '9.08',\n",
       "       '1.14', '3.28', '4.37', '6.88', '3.44', '2.13', '4.68', '4.53',\n",
       "       '4.36'], dtype=object)"
      ]
     },
     "execution_count": 14,
     "metadata": {},
     "output_type": "execute_result"
    }
   ],
   "source": [
    "dropout['Primary_Boys'].values"
   ]
  },
  {
   "cell_type": "code",
   "execution_count": 15,
   "metadata": {},
   "outputs": [
    {
     "data": {
      "text/plain": [
       "array(['0.51', '1.06', '0.55', '3.05', '4.39', '6.89', '10.22', '14.44',\n",
       "       '10.09', '5.46', '6.68', '14.65', 'NR', '1.79', 'NR', 'NR', 'NR',\n",
       "       'NR', '4.05', '1.38', '2.74', '0.47', '2.17', '1.31', 'NR', '0.59',\n",
       "       '0.29', 'NR', 'NR', 'NR', '0.26', '0.33', '0.84', '1.35', '1.06',\n",
       "       '0.98', '1.06', '0.63', '5.69', '0.39', '0.34', '0.83', '5.75',\n",
       "       '5.37', '6.59', '7.05', '5.91', '5.03', '2.51', '2.21', '2.01',\n",
       "       'NR', 'NR', 'NR', '2.71', 'NR', 'NR', '6.49', '10.4', '6.72',\n",
       "       '1.06', '0.59', '1.25', '9.48', '18.74', '9.83', '8.96', '9.39',\n",
       "       '8.56', '23.93', '13.38', '10.03', '7.03', '19.74', '5.02', '3.49',\n",
       "       '3.05', '2.81', '0.43', '0.57', '0.38', '1.98', '1.21', '3.25',\n",
       "       '8.85', '9.12', '5.02', '2.31', '3.49', '0.62', '4.1', '0.39',\n",
       "       'NR', '5.57', '1.94', '2.11', '3.52', '1.19', '10.03', '6.21',\n",
       "       '8.04', '1.18', '2.83', '3.67', '5.71', '2.37', '0.79', '4.66',\n",
       "       '4.14', '3.88'], dtype=object)"
      ]
     },
     "execution_count": 15,
     "metadata": {},
     "output_type": "execute_result"
    }
   ],
   "source": [
    "dropout['Primary_Girls'].values"
   ]
  },
  {
   "cell_type": "code",
   "execution_count": 17,
   "metadata": {},
   "outputs": [
    {
     "data": {
      "text/plain": [
       "array(['Uppe_r_Primary', 'NR', '1.44', '3.21', '3.46', '5.09', '4.44',\n",
       "       '5.86', '5.31', '7.89', '7.6', '10.45', 'NR', '2.77', '4.14', 'NR',\n",
       "       '0.72', '0.01', '6.09', '4.09', '6.47', '2.59', '3.31', '3.7',\n",
       "       'NR', '3.42', '3.14', 'NR', '3.13', '0.95', 'NR', 'NR', 'NR',\n",
       "       '2.75', '3.52', '4.65', '0.18', '1.97', '5.5', '0.52', '0.6',\n",
       "       '0.5', '5.51', '3.86', '4.98', '4.99', '7.19', '9.01', '4.96',\n",
       "       '2.31', '3.46', 'NR', 'NR', 'NR', '0.97', '1.16', '2.37', '6.79',\n",
       "       '9.88', '7.78', '0.89', 'NR', '0.89', '5.48', '7.48', '3.61',\n",
       "       '8.43', '6.34', '6.77', '19.35', '6.61', '5.46', '10.15', '18.08',\n",
       "       '7.87', '4.1', '3.11', '4.11', '0.33', '0.37', '0.44', '2.58',\n",
       "       '2.52', '2.95', '2.86', '4.49', '2.54', '2.6', '6.35', '2.07',\n",
       "       '0.38', '4.38', 'NR', '4.63', '2.43', '3.1', '3.21', '2.37', 'NR',\n",
       "       'NR', '0.78', 'NR', '1.78', '0.79', '6.29', '5.63', '5.84', '2.3',\n",
       "       '3.09', '3.49'], dtype=object)"
      ]
     },
     "execution_count": 17,
     "metadata": {},
     "output_type": "execute_result"
    }
   ],
   "source": [
    "dropout['Upper Primary_Boys'].values"
   ]
  },
  {
   "cell_type": "code",
   "execution_count": 18,
   "metadata": {},
   "outputs": [
    {
     "data": {
      "text/plain": [
       "array(['1.09', '1.54', '1.95', '3.51', '4.12', '5.32', '6.74', '9.06',\n",
       "       '8.08', '6.55', '6.54', '10.56', 'NR', '3.19', '4.01', '0.88',\n",
       "       '1.55', '0.96', '4.73', '3.51', '5.22', '4.3', '5.09', '4.4', 'NR',\n",
       "       '3.72', '3.07', '0.31', '2.37', '0.55', 'NR', 'NR', '0.21', '8.19',\n",
       "       '8.04', '8.54', '0.8', '3.25', '6.18', '0.49', '0.98', '1.27',\n",
       "       '5.52', '4.8', '5.95', '5.94', '7.65', '8.96', '5.15', '2.73',\n",
       "       '4.27', 'NR', 'NR', '0', 'NR', '2.5', '3.18', '10.27', '13.57',\n",
       "       '10.7', '2.72', '1.5', '2.83', '6.65', '6.54', '4.8', '7.34',\n",
       "       '7.28', '6.3', '19.21', '5.39', '4.06', '9.51', '17.63', '7.97',\n",
       "       '3.52', '2.48', '3.49', '1.05', '0.83', '0.69', '3.04', '3.27',\n",
       "       '3.55', '6.34', '7.95', '3.73', '3.64', '3.98', '1.08', '2.13',\n",
       "       '4.67', 'NR', '4.79', '2.17', '3.07', '2.2', '1.61', '3.1', '2.43',\n",
       "       '4.61', '1', '1.57', '1.62', '4.16', '3.1', '2.88', '4.01', '4.49',\n",
       "       '4.6'], dtype=object)"
      ]
     },
     "execution_count": 18,
     "metadata": {},
     "output_type": "execute_result"
    }
   ],
   "source": [
    "dropout['Upper Primary_Girls'].values"
   ]
  },
  {
   "cell_type": "code",
   "execution_count": 19,
   "metadata": {},
   "outputs": [],
   "source": [
    "import matplotlib.pyplot as plt"
   ]
  },
  {
   "cell_type": "code",
   "execution_count": 22,
   "metadata": {},
   "outputs": [
    {
     "data": {
      "image/png": "[encoded data removed]",
      "text/plain": [
       "<Figure size 432x288 with 1 Axes>"
      ]
     },
     "metadata": {
      "needs_background": "light"
     },
     "output_type": "display_data"
    }
   ],
   "source": [
    "plt.bar(data_wb['Primary_Girls'],data_wb['year'] )\n",
    "plt.xlabel('Primary_Girls')\n",
    "plt.ylabel('year')\n",
    "plt.title('year basis Primary_Girls ratio in West Bengal')\n",
    "plt.show()"
   ]
  },
  {
   "cell_type": "code",
   "execution_count": 23,
   "metadata": {},
   "outputs": [
    {
     "data": {
      "image/png": "[encoded data removed]",
      "text/plain": [
       "<Figure size 432x288 with 1 Axes>"
      ]
     },
     "metadata": {
      "needs_background": "light"
     },
     "output_type": "display_data"
    }
   ],
   "source": [
    "plt.bar(data_wb['Primary_Girls'],data_wb['year'] )\n",
    "plt.xlabel('Primary_Girls')\n",
    "plt.ylabel('year')\n",
    "plt.title('year basis Primary_Girls ratio in All India')\n",
    "plt.show()"
   ]
  },
  {
   "cell_type": "code",
   "execution_count": 24,
   "metadata": {},
   "outputs": [
    {
     "data": {
      "image/png": "[encoded data removed]",
      "text/plain": [
       "<Figure size 432x288 with 1 Axes>"
      ]
     },
     "metadata": {
      "needs_background": "light"
     },
     "output_type": "display_data"
    }
   ],
   "source": [
    "plt.bar(data_wb['Primary_Boys'],data_wb['year'] )\n",
    "plt.xlabel('Primary_Boys')\n",
    "plt.ylabel('year')\n",
    "plt.title('year basis Primary_Boys ratio in West Bengal')\n",
    "plt.show()"
   ]
  },
  {
   "cell_type": "code",
   "execution_count": 27,
   "metadata": {},
   "outputs": [
    {
     "data": {
      "image/png": "[encoded data removed]",
      "text/plain": [
       "<Figure size 432x288 with 1 Axes>"
      ]
     },
     "metadata": {
      "needs_background": "light"
     },
     "output_type": "display_data"
    }
   ],
   "source": [
    "plt.bar(dropout['Secondary _Girls'],dropout['year'] )\n",
    "plt.xlabel('Secondary _Girls')\n",
    "plt.ylabel('year')\n",
    "plt.title('year basis Secondary _Girls ratio')\n",
    "plt.show()"
   ]
  },
  {
   "cell_type": "code",
   "execution_count": 28,
   "metadata": {},
   "outputs": [
    {
     "data": {
      "image/png": "[encoded data removed]",
      "text/plain": [
       "<Figure size 432x288 with 1 Axes>"
      ]
     },
     "metadata": {
      "needs_background": "light"
     },
     "output_type": "display_data"
    }
   ],
   "source": [
    "plt.bar(dropout['Secondary _Boys'],dropout['year'] )\n",
    "plt.xlabel('Secondary _Boys')\n",
    "plt.ylabel('year')\n",
    "plt.title('year basis Secondary _Boys ratio')\n",
    "plt.show()"
   ]
  },
  {
   "cell_type": "code",
   "execution_count": 30,
   "metadata": {},
   "outputs": [
    {
     "data": {
      "image/png": "[encoded data removed]",
      "text/plain": [
       "<Figure size 432x288 with 1 Axes>"
      ]
     },
     "metadata": {
      "needs_background": "light"
     },
     "output_type": "display_data"
    }
   ],
   "source": [
    "plt.bar(data_wb['Primary_Boys'],data_wb['year'] )\n",
    "plt.xlabel('Primary_Boys')\n",
    "plt.ylabel('year')\n",
    "plt.title('year basis Primary_Boys ratio in West Bengal')\n",
    "plt.show()"
   ]
  },
  {
   "cell_type": "code",
   "execution_count": 31,
   "metadata": {},
   "outputs": [
    {
     "data": {
      "image/png": "[encoded data removed]",
      "text/plain": [
       "<Figure size 432x288 with 1 Axes>"
      ]
     },
     "metadata": {
      "needs_background": "light"
     },
     "output_type": "display_data"
    }
   ],
   "source": [
    "plt.bar(data_wb['Primary_Girls'],data_wb['year'] )\n",
    "plt.xlabel('Primary_Girls')\n",
    "plt.ylabel('year')\n",
    "plt.title('year basis Primary_Girls ratio in West Bengal')\n",
    "plt.show()"
   ]
  },
  {
   "cell_type": "code",
   "execution_count": 33,
   "metadata": {},
   "outputs": [
    {
     "data": {
      "image/png": "[encoded data removed]",
      "text/plain": [
       "<Figure size 432x288 with 1 Axes>"
      ]
     },
     "metadata": {
      "needs_background": "light"
     },
     "output_type": "display_data"
    }
   ],
   "source": [
    "plt.bar(data_wb['Upper Primary_Boys'],data_wb['year'] )\n",
    "plt.xlabel('Upper Primary_Boys')\n",
    "plt.ylabel('year')\n",
    "plt.title('Upper Primary_Boys ratio vs year ')\n",
    "plt.show()"
   ]
  },
  {
   "cell_type": "code",
   "execution_count": 34,
   "metadata": {},
   "outputs": [
    {
     "data": {
      "image/png": "[encoded data removed]",
      "text/plain": [
       "<Figure size 432x288 with 1 Axes>"
      ]
     },
     "metadata": {
      "needs_background": "light"
     },
     "output_type": "display_data"
    }
   ],
   "source": [
    "plt.bar(data_wb['Upper Primary_Girls'],data_wb['year'] )\n",
    "plt.xlabel('Upper Primary_Girls')\n",
    "plt.ylabel('year')\n",
    "plt.title('Upper Primary_Girls ratio vs year ')\n",
    "plt.show()"
   ]
  },
  {
   "cell_type": "code",
   "execution_count": 39,
   "metadata": {},
   "outputs": [
    {
     "data": {
      "text/plain": [
       "(array([41.,  8.,  8.,  7.,  8.,  7.,  8.,  7.,  8.,  8.]),\n",
       " array([ 0. ,  7.5, 15. , 22.5, 30. , 37.5, 45. , 52.5, 60. , 67.5, 75. ]),\n",
       " <a list of 10 Patch objects>)"
      ]
     },
     "execution_count": 39,
     "metadata": {},
     "output_type": "execute_result"
    },
    {
     "data": {
      "image/png": "[encoded data removed]",
      "text/plain": [
       "<Figure size 432x288 with 1 Axes>"
      ]
     },
     "metadata": {
      "needs_background": "light"
     },
     "output_type": "display_data"
    }
   ],
   "source": [
    "plt.hist(dropout['HrSecondary_Girls'])"
   ]
  },
  {
   "cell_type": "code",
   "execution_count": 40,
   "metadata": {},
   "outputs": [
    {
     "data": {
      "text/plain": [
       "(array([35.,  9.,  8.,  9.,  8.,  8.,  8.,  8.,  8.,  9.]),\n",
       " array([ 0.,  8., 16., 24., 32., 40., 48., 56., 64., 72., 80.]),\n",
       " <a list of 10 Patch objects>)"
      ]
     },
     "execution_count": 40,
     "metadata": {},
     "output_type": "execute_result"
    },
    {
     "data": {
      "image/png": "[encoded data removed]",
      "text/plain": [
       "<Figure size 432x288 with 1 Axes>"
      ]
     },
     "metadata": {
      "needs_background": "light"
     },
     "output_type": "display_data"
    }
   ],
   "source": [
    "plt.hist(dropout['HrSecondary_Boys'])"
   ]
  },
  {
   "cell_type": "code",
   "execution_count": 41,
   "metadata": {},
   "outputs": [
    {
     "data": {
      "text/plain": [
       "<BarContainer object of 110 artists>"
      ]
     },
     "execution_count": 41,
     "metadata": {},
     "output_type": "execute_result"
    },
    {
     "data": {
      "image/png": "[encoded data removed]",
      "text/plain": [
       "<Figure size 432x288 with 1 Axes>"
      ]
     },
     "metadata": {
      "needs_background": "light"
     },
     "output_type": "display_data"
    }
   ],
   "source": [
    "plt.bar(dropout['Primary_Boys'], dropout['year'])"
   ]
  },
  {
   "cell_type": "code",
   "execution_count": 42,
   "metadata": {},
   "outputs": [
    {
     "data": {
      "text/plain": [
       "<BarContainer object of 110 artists>"
      ]
     },
     "execution_count": 42,
     "metadata": {},
     "output_type": "execute_result"
    },
    {
     "data": {
      "image/png": "[encoded data removed]",
      "text/plain": [
       "<Figure size 432x288 with 1 Axes>"
      ]
     },
     "metadata": {
      "needs_background": "light"
     },
     "output_type": "display_data"
    }
   ],
   "source": [
    "plt.bar(dropout['Primary_Girls'], dropout['year'])"
   ]
  },
  {
   "cell_type": "code",
   "execution_count": null,
   "metadata": {},
   "outputs": [],
   "source": []
  }
 ],
 "metadata": {
  "kernelspec": {
   "display_name": "Python 3",
   "language": "python",
   "name": "python3"
  },
  "language_info": {
   "codemirror_mode": {
    "name": "ipython",
    "version": 3
   },
   "file_extension": ".py",
   "mimetype": "text/x-python",
   "name": "python",
   "nbconvert_exporter": "python",
   "pygments_lexer": "ipython3",
   "version": "3.7.4"
  }
 },
 "nbformat": 4,
 "nbformat_minor": 2
}
